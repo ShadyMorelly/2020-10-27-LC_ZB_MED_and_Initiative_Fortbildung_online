{
 "cells": [
  {
   "cell_type": "code",
   "execution_count": 1,
   "metadata": {},
   "outputs": [],
   "source": [
    "dirty_isbns = [\n",
    "    \" ISBN 978-1449369415 \", \n",
    "    \"ISBN___978-1491946008 \",\n",
    "    \"ISBN 978-1593276034\"]"
   ]
  },
  {
   "cell_type": "code",
   "execution_count": 3,
   "metadata": {},
   "outputs": [],
   "source": [
    "def clean_isbn():\n",
    "    isbn = \" ISBN 978-1449369415 \"\n",
    "    print(isbn)"
   ]
  },
  {
   "cell_type": "code",
   "execution_count": 4,
   "metadata": {},
   "outputs": [
    {
     "name": "stdout",
     "output_type": "stream",
     "text": [
      " ISBN 978-1449369415 \n"
     ]
    }
   ],
   "source": [
    "def clean_isbn():\n",
    "    isbn = \" ISBN 978-1449369415 \"\n",
    "    print(isbn)\n",
    "\n",
    "clean_isbn()"
   ]
  },
  {
   "cell_type": "code",
   "execution_count": 9,
   "metadata": {},
   "outputs": [
    {
     "name": "stdout",
     "output_type": "stream",
     "text": [
      "ISBN 978-1449369415\n"
     ]
    }
   ],
   "source": [
    "def clean_isbn():\n",
    "    isbn = \" ISBN 978-1449369415 \"\n",
    "    isbn = isbn.strip()\n",
    "    print(isbn)\n",
    "    \n",
    "clean_isbn()"
   ]
  },
  {
   "cell_type": "code",
   "execution_count": 7,
   "metadata": {},
   "outputs": [
    {
     "name": "stdout",
     "output_type": "stream",
     "text": [
      " 978-1449369415\n"
     ]
    }
   ],
   "source": [
    "def clean_isbn():\n",
    "    isbn = \" ISBN 978-1449369415 \"\n",
    "    isbn = isbn.strip()\n",
    "    isbn = isbn.replace(\"ISBN\", \"\")\n",
    "    print(isbn)\n",
    "    \n",
    "clean_isbn()"
   ]
  },
  {
   "cell_type": "code",
   "execution_count": 10,
   "metadata": {},
   "outputs": [
    {
     "ename": "TypeError",
     "evalue": "clean_isbn() missing 1 required positional argument: 'isbn'",
     "output_type": "error",
     "traceback": [
      "\u001b[0;31m---------------------------------------------------------------------------\u001b[0m",
      "\u001b[0;31mTypeError\u001b[0m                                 Traceback (most recent call last)",
      "\u001b[0;32m<ipython-input-10-a5c5e23dd67d>\u001b[0m in \u001b[0;36m<module>\u001b[0;34m\u001b[0m\n\u001b[1;32m      4\u001b[0m     \u001b[0mprint\u001b[0m\u001b[0;34m(\u001b[0m\u001b[0misbn\u001b[0m\u001b[0;34m)\u001b[0m\u001b[0;34m\u001b[0m\u001b[0;34m\u001b[0m\u001b[0m\n\u001b[1;32m      5\u001b[0m \u001b[0;34m\u001b[0m\u001b[0m\n\u001b[0;32m----> 6\u001b[0;31m \u001b[0mclean_isbn\u001b[0m\u001b[0;34m(\u001b[0m\u001b[0;34m)\u001b[0m\u001b[0;34m\u001b[0m\u001b[0;34m\u001b[0m\u001b[0m\n\u001b[0m",
      "\u001b[0;31mTypeError\u001b[0m: clean_isbn() missing 1 required positional argument: 'isbn'"
     ]
    }
   ],
   "source": [
    "def clean_isbn(isbn):\n",
    "    isbn = isbn.strip()\n",
    "    isbn = isbn.replace(\"ISBN\", \"\")\n",
    "    print(isbn)\n",
    "    \n",
    "clean_isbn()"
   ]
  },
  {
   "cell_type": "code",
   "execution_count": 11,
   "metadata": {},
   "outputs": [
    {
     "name": "stdout",
     "output_type": "stream",
     "text": [
      " 978-1449369415\n"
     ]
    }
   ],
   "source": [
    "def clean_isbn(isbn):\n",
    "    isbn = isbn.strip()\n",
    "    isbn = isbn.replace(\"ISBN\", \"\")\n",
    "    print(isbn)\n",
    "    \n",
    "clean_isbn(\" ISBN 978-1449369415 \")"
   ]
  },
  {
   "cell_type": "code",
   "execution_count": 12,
   "metadata": {},
   "outputs": [
    {
     "name": "stdout",
     "output_type": "stream",
     "text": [
      "978-1449369415\n"
     ]
    }
   ],
   "source": [
    "def clean_isbn(isbn):\n",
    "    isbn = isbn.replace(\"ISBN\", \"\")    \n",
    "    isbn = isbn.strip()\n",
    "    print(isbn)\n",
    "    \n",
    "clean_isbn(\" ISBN 978-1449369415 \")"
   ]
  },
  {
   "cell_type": "code",
   "execution_count": 13,
   "metadata": {},
   "outputs": [
    {
     "name": "stdout",
     "output_type": "stream",
     "text": [
      "978-1449369415\n"
     ]
    }
   ],
   "source": [
    "clean_isbn(dirty_isbns[0])"
   ]
  },
  {
   "cell_type": "code",
   "execution_count": 14,
   "metadata": {},
   "outputs": [
    {
     "name": "stdout",
     "output_type": "stream",
     "text": [
      "___978-1491946008\n"
     ]
    }
   ],
   "source": [
    "clean_isbn(dirty_isbns[1])"
   ]
  },
  {
   "cell_type": "code",
   "execution_count": 15,
   "metadata": {},
   "outputs": [
    {
     "name": "stdout",
     "output_type": "stream",
     "text": [
      "978-1593276034\n"
     ]
    }
   ],
   "source": [
    "clean_isbn(dirty_isbns[2])"
   ]
  },
  {
   "cell_type": "code",
   "execution_count": 16,
   "metadata": {},
   "outputs": [
    {
     "name": "stdout",
     "output_type": "stream",
     "text": [
      "978-1449369415\n",
      "___978-1491946008\n",
      "978-1593276034\n"
     ]
    }
   ],
   "source": [
    "for dirty_isbn in dirty_isbns:\n",
    "    clean_isbn(dirty_isbn)"
   ]
  },
  {
   "cell_type": "code",
   "execution_count": 17,
   "metadata": {},
   "outputs": [
    {
     "name": "stdout",
     "output_type": "stream",
     "text": [
      "978-1449369415\n",
      "___978-1491946008\n",
      "978-1593276034\n"
     ]
    }
   ],
   "source": [
    "def clean_isbn(isbn):\n",
    "    isbn = isbn.replace(\"ISBN\", \"\")    \n",
    "    isbn = isbn.strip()\n",
    "    print(isbn)\n",
    "    \n",
    "for dirty_isbn in dirty_isbns:\n",
    "    clean_isbn(dirty_isbn)"
   ]
  },
  {
   "cell_type": "code",
   "execution_count": 19,
   "metadata": {},
   "outputs": [
    {
     "name": "stdout",
     "output_type": "stream",
     "text": [
      "978-1449369415\n",
      "978-1491946008\n",
      "978-1593276034\n"
     ]
    }
   ],
   "source": [
    "def clean_isbn(isbn):\n",
    "    isbn = isbn.replace(\"ISBN\", \"\")\n",
    "    isbn = isbn.replace(\"_\", \"\")\n",
    "    isbn = isbn.strip()\n",
    "    print(isbn)\n",
    "    \n",
    "for dirty_isbn in dirty_isbns:\n",
    "    clean_isbn(dirty_isbn)"
   ]
  },
  {
   "cell_type": "code",
   "execution_count": 34,
   "metadata": {},
   "outputs": [],
   "source": [
    "def clean_isbn(isbn):\n",
    "    isbn = isbn.replace(\"ISBN\", \"\").replace(\"_\", \"\")\n",
    "    isbn = isbn.strip()\n",
    "    print(isbn)\n",
    "    \n",
    "#for dirty_isbn in dirty_isbns:\n",
    "#   clean_isbn(dirty_isbn)"
   ]
  },
  {
   "cell_type": "code",
   "execution_count": 35,
   "metadata": {},
   "outputs": [
    {
     "name": "stdout",
     "output_type": "stream",
     "text": [
      "978-1449369415\n"
     ]
    }
   ],
   "source": [
    "cleaned_isbn = clean_isbn(dirty_isbns[0])"
   ]
  },
  {
   "cell_type": "code",
   "execution_count": 36,
   "metadata": {},
   "outputs": [
    {
     "name": "stdout",
     "output_type": "stream",
     "text": [
      "None\n"
     ]
    }
   ],
   "source": [
    "print(cleaned_isbn)"
   ]
  },
  {
   "cell_type": "code",
   "execution_count": 24,
   "metadata": {},
   "outputs": [
    {
     "name": "stdout",
     "output_type": "stream",
     "text": [
      "978-1449369415\n"
     ]
    }
   ],
   "source": [
    "print(cleaned_isbn)"
   ]
  },
  {
   "cell_type": "code",
   "execution_count": 23,
   "metadata": {},
   "outputs": [],
   "source": [
    "def clean_isbn(isbn):\n",
    "    isbn = isbn.replace(\"ISBN\", \"\").replace(\"_\", \"\")\n",
    "    isbn = isbn.strip()\n",
    "    return isbn\n",
    "\n",
    "cleaned_isbn = clean_isbn(dirty_isbns[0])"
   ]
  },
  {
   "cell_type": "code",
   "execution_count": 25,
   "metadata": {},
   "outputs": [
    {
     "name": "stdout",
     "output_type": "stream",
     "text": [
      "978-1449369415\n"
     ]
    }
   ],
   "source": [
    "print(cleaned_isbn)"
   ]
  },
  {
   "cell_type": "code",
   "execution_count": 26,
   "metadata": {},
   "outputs": [
    {
     "name": "stdout",
     "output_type": "stream",
     "text": [
      "<function clean_isbn at 0x7f9de4536dd0>\n"
     ]
    }
   ],
   "source": [
    "print(clean_isbn)"
   ]
  },
  {
   "cell_type": "code",
   "execution_count": 27,
   "metadata": {},
   "outputs": [
    {
     "name": "stdout",
     "output_type": "stream",
     "text": [
      "blub\n"
     ]
    }
   ],
   "source": [
    "x = print(\"blub\")"
   ]
  },
  {
   "cell_type": "code",
   "execution_count": 28,
   "metadata": {},
   "outputs": [],
   "source": [
    "x"
   ]
  },
  {
   "cell_type": "code",
   "execution_count": 29,
   "metadata": {},
   "outputs": [
    {
     "name": "stdout",
     "output_type": "stream",
     "text": [
      "None\n"
     ]
    }
   ],
   "source": [
    "print(x)"
   ]
  },
  {
   "cell_type": "code",
   "execution_count": 30,
   "metadata": {},
   "outputs": [],
   "source": [
    "def blub():\n",
    "    x = 9"
   ]
  },
  {
   "cell_type": "code",
   "execution_count": 31,
   "metadata": {},
   "outputs": [
    {
     "name": "stdout",
     "output_type": "stream",
     "text": [
      "None\n"
     ]
    }
   ],
   "source": [
    "print(blub())"
   ]
  },
  {
   "cell_type": "code",
   "execution_count": null,
   "metadata": {},
   "outputs": [],
   "source": []
  }
 ],
 "metadata": {
  "kernelspec": {
   "display_name": "Python 3",
   "language": "python",
   "name": "python3"
  },
  "language_info": {
   "codemirror_mode": {
    "name": "ipython",
    "version": 3
   },
   "file_extension": ".py",
   "mimetype": "text/x-python",
   "name": "python",
   "nbconvert_exporter": "python",
   "pygments_lexer": "ipython3",
   "version": "3.7.6"
  }
 },
 "nbformat": 4,
 "nbformat_minor": 4
}
