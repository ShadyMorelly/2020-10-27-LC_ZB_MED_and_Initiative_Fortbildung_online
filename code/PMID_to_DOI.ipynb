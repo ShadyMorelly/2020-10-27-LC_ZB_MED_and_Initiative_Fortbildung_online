{
 "cells": [
  {
   "cell_type": "code",
   "execution_count": 8,
   "metadata": {},
   "outputs": [],
   "source": [
    "import urllib.request\n",
    "import json"
   ]
  },
  {
   "cell_type": "code",
   "execution_count": 7,
   "metadata": {},
   "outputs": [],
   "source": [
    "base_url = \"https://www.ncbi.nlm.nih.gov/pmc/utils/idconv/v1.0/\"\n",
    "result_format = \"json\"\n",
    "pmid = \"26785377\"   # 32116744"
   ]
  },
  {
   "cell_type": "code",
   "execution_count": 5,
   "metadata": {},
   "outputs": [],
   "source": [
    "url = f\"{base_url}?ids={pmid}&idtype=pmid&format=json\""
   ]
  },
  {
   "cell_type": "code",
   "execution_count": 6,
   "metadata": {},
   "outputs": [
    {
     "data": {
      "text/plain": [
       "'https://www.ncbi.nlm.nih.gov/pmc/utils/idconv/v1.0?ids=26785377&idtype=pmid&format=json'"
      ]
     },
     "execution_count": 6,
     "metadata": {},
     "output_type": "execute_result"
    }
   ],
   "source": [
    "url"
   ]
  },
  {
   "cell_type": "code",
   "execution_count": 10,
   "metadata": {},
   "outputs": [],
   "source": [
    "request_data = urllib.request.urlopen(url).read()"
   ]
  },
  {
   "cell_type": "code",
   "execution_count": 11,
   "metadata": {},
   "outputs": [
    {
     "name": "stdout",
     "output_type": "stream",
     "text": [
      "b'{\\n \"status\": \"ok\",\\n \"responseDate\": \"2020-10-28 08:43:00\",\\n \"request\": \"ids=26785377;idtype=pmid;format=json\",\\n \"warning\": \"no e-mail provided; no tool provided\",\\n \"records\": [\\n   {\\n    \"pmcid\": \"PMC4718703\",\\n    \"pmid\": \"26785377\",\\n    \"doi\": \"10.1371/journal.pcbi.1004668\",\\n    \"versions\": [\\n      {\\n       \"pmcid\": \"PMC4718703.1\",\\n       \"current\": \"true\"\\n      }\\n    ]\\n   }\\n ]\\n}\\n'\n"
     ]
    }
   ],
   "source": [
    "print(request_data)"
   ]
  },
  {
   "cell_type": "code",
   "execution_count": 12,
   "metadata": {},
   "outputs": [],
   "source": [
    "request_data_as_dict = json.loads(request_data)"
   ]
  },
  {
   "cell_type": "code",
   "execution_count": 13,
   "metadata": {},
   "outputs": [
    {
     "name": "stdout",
     "output_type": "stream",
     "text": [
      "{'status': 'ok', 'responseDate': '2020-10-28 08:43:00', 'request': 'ids=26785377;idtype=pmid;format=json', 'warning': 'no e-mail provided; no tool provided', 'records': [{'pmcid': 'PMC4718703', 'pmid': '26785377', 'doi': '10.1371/journal.pcbi.1004668', 'versions': [{'pmcid': 'PMC4718703.1', 'current': 'true'}]}]}\n"
     ]
    }
   ],
   "source": [
    "print(request_data_as_dict)"
   ]
  },
  {
   "cell_type": "code",
   "execution_count": 14,
   "metadata": {},
   "outputs": [
    {
     "data": {
      "text/plain": [
       "dict"
      ]
     },
     "execution_count": 14,
     "metadata": {},
     "output_type": "execute_result"
    }
   ],
   "source": [
    "type(request_data_as_dict)"
   ]
  },
  {
   "cell_type": "code",
   "execution_count": 17,
   "metadata": {},
   "outputs": [
    {
     "data": {
      "text/plain": [
       "'10.1371/journal.pcbi.1004668'"
      ]
     },
     "execution_count": 17,
     "metadata": {},
     "output_type": "execute_result"
    }
   ],
   "source": [
    "request_data_as_dict[\"records\"][0][\"doi\"]"
   ]
  },
  {
   "cell_type": "code",
   "execution_count": null,
   "metadata": {},
   "outputs": [],
   "source": [
    "json."
   ]
  }
 ],
 "metadata": {
  "kernelspec": {
   "display_name": "Python 3",
   "language": "python",
   "name": "python3"
  },
  "language_info": {
   "codemirror_mode": {
    "name": "ipython",
    "version": 3
   },
   "file_extension": ".py",
   "mimetype": "text/x-python",
   "name": "python",
   "nbconvert_exporter": "python",
   "pygments_lexer": "ipython3",
   "version": "3.7.6"
  }
 },
 "nbformat": 4,
 "nbformat_minor": 4
}
